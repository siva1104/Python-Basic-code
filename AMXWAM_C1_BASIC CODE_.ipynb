{
 "cells": [
  {
   "cell_type": "markdown",
   "metadata": {},
   "source": [
    "## PYTHON INTRODUCTION -  (TASK - 1)\n",
    "* I hope everybody install Anconda software which i share to you guys right\n",
    "* Just wanted to know how many of know any programming language\n",
    "* If you dont know any programming language then you are the best person to learn PYTHON \n",
    "* python is very easy language\n",
    "* what is python? Ans - python is highly recommanded programming language & object oriented language\n",
    "* Father of python - Guido van Rosam\n",
    "* Python came from fun tv show called ''complete monty python's flying circus'' - broadcasted in BBC channel \n",
    "* Python - procudeure oriented progrmming language, functional programming language, object oriented programming language,scripting language,modular programming language\n",
    "* Python borrowed all concept from c,c++,java,unix ( so python is everything) thats why python very very powerfull tool\n",
    "* Python developed in NRI - (Netherland) & lot of people say that python is new language\n",
    "* Java released on 1995. python was released on 1989 officialy released on (feb 20th 1991)"
   ]
  },
  {
   "cell_type": "markdown",
   "metadata": {},
   "source": [
    "* Now python is very popular based on software industry requirment because everybody wants to write very less code/concile code\n",
    "* Current market trend is - Machine learing, Artificial intelligence, data science & Iot(Internet of things)\n",
    "* which companies are used python - google,nasa,uber,netfliz,reddit,facebook, everywhere python used everywhere\n",
    "* python code can understand everybody & python is dynamic programming language\n",
    "* In python everything done by PVM (python virtual machine)\n",
    "* you can access python in any platform independent- windows, linux, mac one code can run in all the 4 platform & no need to     write separate programe for every platform. Once you write code you can run in platform\n",
    "* Python is dynamically programming language (not required to declared data types)\n",
    "* Python is freeware and open source. Moving from one platform to other platform without changeing any code\n",
    "* Python contains rich libray - numpy,pandas so python is the best application for datascience\n",
    "* which scenario python can't be used - ( python can not perform in mobile application like android )\n",
    "* Flavours of python - cpython(C programming),jpython(java programming),Iron python(c#.net),Ruby python(Ruby based application   programme),Anaconda python(Bigdata,datascience)\n",
    "* Python 1.0 introduce in jan 1994 -- Noorganization is working now\n",
    "* Python 2.0 introduce in oct 2000 -- Noorganization is working now\n",
    "* Python 3.0 introduce in Dec 2008 -- latest version - 3.6, 3.6, 3.7, 3.8"
   ]
  },
  {
   "cell_type": "code",
   "execution_count": 1,
   "metadata": {},
   "outputs": [
    {
     "data": {
      "text/plain": [
       "'3.7.6 (default, Jan  8 2020, 20:23:39) [MSC v.1916 64 bit (AMD64)]'"
      ]
     },
     "execution_count": 1,
     "metadata": {},
     "output_type": "execute_result"
    }
   ],
   "source": [
    "import sys\n",
    "sys.version"
   ]
  },
  {
   "cell_type": "code",
   "execution_count": 2,
   "metadata": {},
   "outputs": [
    {
     "data": {
      "text/plain": [
       "7.9"
      ]
     },
     "execution_count": 2,
     "metadata": {},
     "output_type": "execute_result"
    }
   ],
   "source": [
    "a = 7.9\n",
    "a"
   ]
  },
  {
   "cell_type": "markdown",
   "metadata": {},
   "source": [
    "### PYTHON IDENTIFIER --\n",
    "* There is a person whose name - Multiple names are to identify person.so finally the   Name which can be used for identification purpose.\n",
    "* Name in the python programme is called IDENTIFIER (x = 10) (X - identifier)\n",
    "\n",
    "*'''  \n",
    "     \n",
    "* Nameing ceremoney we have some rules to naming a child . e.g - Gods name,Ancestor Name,have to do     some R & D. you cannot keep the child name as - Cat or dog right.. so parent have to follow some     rule and keep their child naming ceremony.\n",
    "\n",
    "*Rules to define Python Identifier & we will check those rules ==\n",
    "\n",
    "<1>Alphabet (uppercae & lowercase)\n",
    "  digits (0-9) # should not stat with digit\n",
    "  underscore(_)"
   ]
  },
  {
   "cell_type": "code",
   "execution_count": 3,
   "metadata": {
    "scrolled": true
   },
   "outputs": [
    {
     "ename": "NameError",
     "evalue": "name 'cash' is not defined",
     "output_type": "error",
     "traceback": [
      "\u001b[1;31m---------------------------------------------------------------------------\u001b[0m",
      "\u001b[1;31mNameError\u001b[0m                                 Traceback (most recent call last)",
      "\u001b[1;32m<ipython-input-3-168f293be6a9>\u001b[0m in \u001b[0;36m<module>\u001b[1;34m\u001b[0m\n\u001b[0;32m      2\u001b[0m \u001b[1;31m#cash = 10 # Identifier ruls alphabet\u001b[0m\u001b[1;33m\u001b[0m\u001b[1;33m\u001b[0m\u001b[1;33m\u001b[0m\u001b[0m\n\u001b[0;32m      3\u001b[0m \u001b[1;31m#ca$h = 10 # $ - symbole is not allowed in python identifier but in java is allowed\u001b[0m\u001b[1;33m\u001b[0m\u001b[1;33m\u001b[0m\u001b[1;33m\u001b[0m\u001b[0m\n\u001b[1;32m----> 4\u001b[1;33m \u001b[0mcash\u001b[0m\u001b[1;33m\u001b[0m\u001b[1;33m\u001b[0m\u001b[0m\n\u001b[0m",
      "\u001b[1;31mNameError\u001b[0m: name 'cash' is not defined"
     ]
    }
   ],
   "source": [
    "#x = 10 # x is the variable & 10 is thealue\n",
    "#cash = 10 # Identifier ruls alphabet\n",
    "#ca$h = 10 # $ - symbole is not allowed in python identifier but in java is allowed\n",
    "cash"
   ]
  },
  {
   "cell_type": "code",
   "execution_count": null,
   "metadata": {},
   "outputs": [],
   "source": [
    "# <2> Identifiers should not starts with dight ====\n",
    "sum123 = 20 # Digit rules identifier\n",
    "#123total = 30\n",
    "#123total\n",
    "sum123"
   ]
  },
  {
   "cell_type": "code",
   "execution_count": null,
   "metadata": {},
   "outputs": [],
   "source": [
    "# <3> Identifiers are case sensitive\n",
    "#total = 10 # Python are case sensitive\n",
    "TotAL = 20\n",
    "#total\n",
    "TotAL"
   ]
  },
  {
   "cell_type": "code",
   "execution_count": null,
   "metadata": {},
   "outputs": [],
   "source": [
    "# <4> Keywords can not be assigned as identifier\n",
    "#if = 10   # if is keyword\n",
    "DEF = 20  # def is keyword\n",
    "#for = 50\n",
    "DEF"
   ]
  },
  {
   "cell_type": "code",
   "execution_count": null,
   "metadata": {},
   "outputs": [],
   "source": [
    "if = 30\n",
    "if"
   ]
  },
  {
   "cell_type": "code",
   "execution_count": null,
   "metadata": {},
   "outputs": [],
   "source": [
    "IF = 56\n",
    "IF"
   ]
  },
  {
   "cell_type": "code",
   "execution_count": null,
   "metadata": {},
   "outputs": [],
   "source": [
    "if = 60\n",
    "if"
   ]
  },
  {
   "cell_type": "code",
   "execution_count": null,
   "metadata": {},
   "outputs": [],
   "source": [
    "# 5> NO length limit in python Identifier\n",
    "wwwwwwwwwwwwwwwwwwwwwwwwwwwwwwwwwwwwwwwwwwwwwwwwwwwwwwwwwwwwwwwwwwwwwwwwwwwwwwxxxxxxxx = 10\n",
    "wwwwwwwwwwwwwwwwwwwwwwwwwwwwwwwwwwwwwwwwwwwwwwwwwwwwwwwwwwwwwwwwwwwwwwwwwwwwwwxxxxxxxx"
   ]
  },
  {
   "cell_type": "code",
   "execution_count": null,
   "metadata": {},
   "outputs": [],
   "source": [
    "_abc_def_gef  =10\n",
    "_abc_def_gef"
   ]
  },
  {
   "cell_type": "markdown",
   "metadata": {},
   "source": [
    "* Q & A for valid / Invalid identifier - \n",
    "1>123AMXwAM\n",
    "2>AmxWam123\n",
    "3>ml2ai\n",
    "4>_abc_def_gef (( # ))\n",
    "5>def\n",
    "6>else\n",
    "7>ELSE\n",
    "\n",
    "* ----- RULES OF PYTHON IDENTIFIER ------\n",
    "1> A to Z, a to z, 0 - 9\n",
    "2> Doesnot starts with digt\n",
    "3> Case sensitive\n",
    "4> Reserved words or keywords cannot be a identifier\n",
    "5> Identifier cannot have a lenght limit\n",
    "\n",
    "\n",
    "* ========================= WE LEARNT ABOUT PYTHON IDENTIFIER IN DETAILS ============================"
   ]
  },
  {
   "cell_type": "markdown",
   "metadata": {},
   "source": [
    "### PYTHON RESERVED WORDS - \n",
    "* if a kid going to school what he/she will learn A,B,C - - - -Z then she will learn A - APPLE, B -BALL, C - CAT. (APPLE,BALL,CAT - Reserved word in english) \n",
    "* Apple is reserved for the fruit, Ball ==> play, Cat ==> Animal // (Dictionary uncountable reserved words is there).. This type of words are called Reserved word\n",
    "* In any programming language there is a reserved word are there we gonna learn only python Reserved\n",
    "\n",
    "* python reserved are => (35 RESERVED WORDS) If you learn 35 reserved words then python is complete\n",
    "* all reserved words have some meaning & functionality \n",
    "* Learning python is nothing but learing all this functionality"
   ]
  },
  {
   "cell_type": "markdown",
   "metadata": {},
   "source": [
    "**35 RESERVED WORDS---\n",
    "* True, False, None ==> Represent Boolean data types   \n",
    "* and, or, not, is ==> Represent the operators\n",
    "* if, else, elif ==> Represent the statement   (# python switch,do..while statament is not available)\n",
    "* while, for, break, continue, return, in, yield ==> Represent the loop concept\n",
    "* try, except, finally, raise, assert ==> Represent for functionallity\n",
    "* import,from,as,class,def,pass,global,nonlocal,lambda,del,with==>Represent the class,method,function\n",
    "\n",
    "**NOTES --  *33 RESERVED WORDS ARE (ALPHABET) // *EXCEPT (True,False,None)"
   ]
  },
  {
   "cell_type": "code",
   "execution_count": null,
   "metadata": {},
   "outputs": [],
   "source": [
    "#a = True # hash is used for comment\n",
    "a = true\n",
    "a"
   ]
  },
  {
   "cell_type": "code",
   "execution_count": null,
   "metadata": {},
   "outputs": [],
   "source": [
    "b = None\n",
    "#b = none\n",
    "b"
   ]
  },
  {
   "cell_type": "code",
   "execution_count": null,
   "metadata": {},
   "outputs": [],
   "source": [
    "c = False\n",
    "#c = false\n",
    "c"
   ]
  },
  {
   "cell_type": "code",
   "execution_count": null,
   "metadata": {},
   "outputs": [],
   "source": [
    "# How to remembr all keywords --- (Interview questions)\n",
    "# KEYWORD is the module run from IMPORT class\n",
    "\n",
    "import keyword\n",
    "keyword.kwlist"
   ]
  },
  {
   "cell_type": "code",
   "execution_count": null,
   "metadata": {},
   "outputs": [],
   "source": [
    "# write a coding to create index of these keywords --- IMP ---\n",
    "\n",
    "import pandas as pd # pandas is the module to create a dataframe\n",
    "df = pd.DataFrame(keyword.kwlist)\n",
    "df\n",
    "\n",
    "# Always remember python Index begins with '0'\n",
    "\n",
    "# ================= RESERVED WORDS COMPLETED ==============================="
   ]
  },
  {
   "cell_type": "markdown",
   "metadata": {},
   "source": [
    "### PYTHON DATA TYPES // (14) - INBUILD DATA TYPES - \n",
    "1>int\n",
    "2>float\n",
    "3>complex\n",
    "4>bool\n",
    "5>str\n",
    "6>bytes\n",
    "7>bytearray\n",
    "8>range\n",
    "9>list\n",
    "10>tuple\n",
    "11>set\n",
    "12>frozenset\n",
    "13>dict\n",
    "14>None\n",
    "\n",
    "* python provides some inbuild function like -- <1> print() <2> type() <3> id()\n",
    "\n",
    "* int,float,complex,boolen is not represent object # Tricky question\n",
    "* except these 4 everythig object # Tricky question\n",
    "\n",
    "*NOTE - [**In python all 14 data types are object only]\n",
    "*Thats why we called as python is object oriented program"
   ]
  },
  {
   "cell_type": "markdown",
   "metadata": {},
   "source": [
    "#### 'hello world'"
   ]
  },
  {
   "cell_type": "code",
   "execution_count": null,
   "metadata": {},
   "outputs": [],
   "source": [
    "# What is other inbuild datatype available except 14 datatypes-\n",
    "\n",
    "a = 10\n",
    "#print('a')       # To find the variable \n",
    "#print(a)         # To find the value of variable\n",
    "type(a) # To find the data type\n",
    "id(a)            # To find an address of an object"
   ]
  },
  {
   "cell_type": "code",
   "execution_count": null,
   "metadata": {},
   "outputs": [],
   "source": [
    "a = 10\n",
    "a\n",
    "id(a)"
   ]
  },
  {
   "cell_type": "markdown",
   "metadata": {},
   "source": [
    "#### int datatypes - \n",
    "* INT Datatypes - The No.without decimal point are called as INTEGRAL DATATYPES\n",
    "*int datatype how many ways represent values in 3ways - \n",
    "1> Decimal form --- (Base-10) -- (0 to 9)\n",
    "2> Binary form --- (Base-2) -- (0,1)\n",
    "3> Octal form --- (Base-8) -- (0,7)\n"
   ]
  },
  {
   "cell_type": "code",
   "execution_count": null,
   "metadata": {},
   "outputs": [],
   "source": [
    "#1.Decimal form(Base 10)\n",
    "a = 4809\n",
    "a"
   ]
  },
  {
   "cell_type": "code",
   "execution_count": null,
   "metadata": {},
   "outputs": [],
   "source": [
    "#2.Binary form(Base 2)\n",
    "a = 1111   # value is declared\n",
    "b = 0B1111 # Now pvm convert value to binary value\n",
    "b"
   ]
  },
  {
   "cell_type": "code",
   "execution_count": null,
   "metadata": {},
   "outputs": [],
   "source": [
    "#3. Octal form(Base 8)\n",
    "a = 111 # Value is declared\n",
    "b = 0o111 # Now pvm covert value to octal value\n",
    "b"
   ]
  },
  {
   "cell_type": "code",
   "execution_count": null,
   "metadata": {},
   "outputs": [],
   "source": [
    "# final summary of INTEGRAL DATATYPES \n",
    "a = 10\n",
    "b = 0b10\n",
    "c = 0o10\n",
    "c\n"
   ]
  },
  {
   "cell_type": "markdown",
   "metadata": {},
   "source": [
    "#### float datatypes - \n",
    "*employee sal - 5676.76\n",
    "*diesel price - 67.25\n",
    "* These values are not integral value this is called as decimal value\n",
    "* Floating datatype you cannot declare Binary,Octal & Hexadecimal because  python enterpretur not accept that\n",
    "* In our schools we learn about EXPONTIAL form -(1.2e3) this you can find in   float datatypes & only letter 'e' can allowed "
   ]
  },
  {
   "cell_type": "code",
   "execution_count": 4,
   "metadata": {},
   "outputs": [
    {
     "ename": "SyntaxError",
     "evalue": "invalid token (<ipython-input-4-f2ce80f317fa>, line 7)",
     "output_type": "error",
     "traceback": [
      "\u001b[1;36m  File \u001b[1;32m\"<ipython-input-4-f2ce80f317fa>\"\u001b[1;36m, line \u001b[1;32m7\u001b[0m\n\u001b[1;33m    e = 0b4567.89 # This is binary\u001b[0m\n\u001b[1;37m         ^\u001b[0m\n\u001b[1;31mSyntaxError\u001b[0m\u001b[1;31m:\u001b[0m invalid token\n"
     ]
    }
   ],
   "source": [
    "# float datatypes - \n",
    "b = 4567.89\n",
    "print(type(b))\n",
    "type(b)\n",
    "#c = 0x4567.89 # This is hexadecimal \n",
    "#d = 0o4567.89 # This is octal\n",
    "e = 0b4567.89 # This is binary\n",
    "\n"
   ]
  },
  {
   "cell_type": "code",
   "execution_count": null,
   "metadata": {},
   "outputs": [],
   "source": [
    "f = 2.4e3 # only 'e' letter is allowed\n",
    "g = 2.4s3 # except 'E' you can execute any programme\n",
    "g\n",
    "#f"
   ]
  },
  {
   "cell_type": "markdown",
   "metadata": {},
   "source": [
    "#### complex datatypes - \n",
    "* Complex datatype format are:-(a+bj) (a--Real part/b--Imaginary part/j^2=-1)\n",
    "* j is the compulsory value & there is no other value accepted in complex type\n",
    "* j^2 = -1 \n",
    "* Value of j is (j square is equal to -1) (j =(square root of -1) is equal to (j^2 = -1) pure mathemetics so if you want to develop mathmetic \n",
    "  application or scientific application then python is the best option\n",
    "* Real type any type base can be accepted but imaginary part allow only integer"
   ]
  },
  {
   "cell_type": "code",
   "execution_count": null,
   "metadata": {},
   "outputs": [],
   "source": [
    "x = 30+40j #assigned int value in real part & imaginary part\n",
    "type(x)"
   ]
  },
  {
   "cell_type": "code",
   "execution_count": null,
   "metadata": {},
   "outputs": [],
   "source": [
    "y = 20.5+2.3j #assigned float value in real part & imaginary part\n",
    "z = 30.8+20j  #assigned float value in real part & real value in imaginary part\n",
    "y + z\n",
    "y*z\n",
    "y/z"
   ]
  },
  {
   "cell_type": "code",
   "execution_count": null,
   "metadata": {},
   "outputs": [],
   "source": [
    "c = 15+0b111j # Imaginary part cannot be binary,octal,hexadecimal\n",
    "#d = 0b111+15j # Real part can be binary,octal,hexadecimal\n",
    "c"
   ]
  },
  {
   "cell_type": "code",
   "execution_count": null,
   "metadata": {},
   "outputs": [],
   "source": [
    "a1 = 20+30j\n",
    "b1 = 40+50j\n",
    "a1+b1\n",
    "a1-b1\n",
    "a1*b1\n",
    "a1/b1"
   ]
  },
  {
   "cell_type": "code",
   "execution_count": null,
   "metadata": {},
   "outputs": [],
   "source": [
    "a1 = 10+20j  # I want to know what the value of real part & imaginary part\n",
    "#a1.real   # complex data type will use in mathmetic concept not that required for programming language\n",
    "#a1.imaginary\n",
    "a1.imag"
   ]
  },
  {
   "cell_type": "markdown",
   "metadata": {},
   "source": [
    "#### bool datatypes - \n",
    "* True/False - (only allowed boolean values)\n",
    "* False value -- 0 (internally memory level conversion happened)\n",
    "* True value -- 1"
   ]
  },
  {
   "cell_type": "code",
   "execution_count": null,
   "metadata": {},
   "outputs": [],
   "source": [
    "a = 10\n",
    "b = 20\n",
    "c = a<b\n",
    "c"
   ]
  },
  {
   "cell_type": "code",
   "execution_count": null,
   "metadata": {},
   "outputs": [],
   "source": [
    "True+True\n",
    "True*True\n",
    "True-True\n",
    "True/True\n",
    "False+False\n",
    "False+True"
   ]
  },
  {
   "cell_type": "markdown",
   "metadata": {},
   "source": [
    "#### str datatypes - \n",
    "* enclosed in '' (single quote) // \"\" (double quote)\n",
    "* singa line we assined as '' // \"\"\n",
    "* multiline we assigned as (\"' \"')\n",
    "* single & double quotes are allowed only for single line\n",
    "* triple quotes are allowed for multi comments & also you can declare triple quotes in single line as well"
   ]
  },
  {
   "cell_type": "code",
   "execution_count": null,
   "metadata": {},
   "outputs": [],
   "source": [
    "a = 'hallo'\n",
    "a\n",
    "#ype(a) "
   ]
  },
  {
   "cell_type": "code",
   "execution_count": null,
   "metadata": {},
   "outputs": [],
   "source": [
    "b = '''hallo \n",
    "  how \n",
    "    are you'''\n",
    "    \n",
    "    # ''' ''' ==> triple quotes are used for multiline comments\n",
    "b\n",
    "    # is for commenting "
   ]
  },
  {
   "cell_type": "code",
   "execution_count": null,
   "metadata": {},
   "outputs": [],
   "source": [
    "x = 'nareshit'\n",
    "y = \"god\"\n",
    "print(type(x))\n",
    "print(type(y))\n",
    "z = '''  hi welcome to \n",
    "        datascience \n",
    "    academy'''\n",
    "s = '''datascience\" academy'''\n",
    "s"
   ]
  },
  {
   "cell_type": "markdown",
   "metadata": {},
   "source": [
    "#### Type casting or Type conversion - \n",
    "int() -- float() -- complex() -- bool() -- str()"
   ]
  },
  {
   "cell_type": "code",
   "execution_count": 5,
   "metadata": {},
   "outputs": [
    {
     "data": {
      "text/plain": [
       "10"
      ]
     },
     "execution_count": 5,
     "metadata": {},
     "output_type": "execute_result"
    }
   ],
   "source": [
    "# int(): - you can convert from other type to int type except complex \n",
    "\n",
    "#int(10.123)  # float to int\n",
    "#int(10+20j) # cannot convert from complex to int\n",
    "int(True)    # Bool to int\n",
    "int(False)   # Boll to int\n",
    "int(\"10\")    # string to int"
   ]
  },
  {
   "cell_type": "code",
   "execution_count": 6,
   "metadata": {},
   "outputs": [
    {
     "data": {
      "text/plain": [
       "10.0"
      ]
     },
     "execution_count": 6,
     "metadata": {},
     "output_type": "execute_result"
    }
   ],
   "source": [
    "# float(): -- convert from any type to float except complex\n",
    "\n",
    "#float(10)      # int to float\n",
    "#float(10+20j)  # cannot convert complex to float\n",
    "float(False)     # boolean to float\n",
    "float('10')    # string to float"
   ]
  },
  {
   "cell_type": "code",
   "execution_count": 7,
   "metadata": {},
   "outputs": [
    {
     "data": {
      "text/plain": [
       "(10+20.5j)"
      ]
     },
     "execution_count": 7,
     "metadata": {},
     "output_type": "execute_result"
    }
   ],
   "source": [
    "# complex(): -- covert any other type to complex type\n",
    "# --- this only for 1 argument ------\n",
    "\n",
    "complex(10)    # int to complex\n",
    "complex(10,20) # int to complex\n",
    "complex(10.5)  # float to complex\n",
    "complex(True)  # Bool to complex\n",
    "complex(False) # Bool to complex\n",
    "complex('10')  # string to complex \n",
    "\n",
    "# ----- Now we will check for 2 arguments ------\n",
    "#complex(10,20)   # int to complex\n",
    "complex(10,20.5) # float to complex\n",
    "#complex('10')    # string to complex, you cannot assign 2 argument"
   ]
  },
  {
   "cell_type": "code",
   "execution_count": 8,
   "metadata": {},
   "outputs": [
    {
     "data": {
      "text/plain": [
       "True"
      ]
     },
     "execution_count": 8,
     "metadata": {},
     "output_type": "execute_result"
    }
   ],
   "source": [
    "# Bool()  - (0 means false // 1 means non zero)\n",
    "\n",
    "bool(0)      # int to bool\n",
    "bool(10)     # int to bool\n",
    "bool(0.0)    # float to bool\n",
    "bool(0.01)   # float to bool \n",
    "bool(10+20j) # complext to bool\n",
    "bool(0+0j)   # complex to bool\n",
    "bool(\"\")      # string to bool(if argument is empty string then false)\n",
    "bool('abc')# string to bool(if argument is not empty string then true)\n",
    "bool(' ')    # space is also treated as character so non empty string"
   ]
  },
  {
   "cell_type": "code",
   "execution_count": 9,
   "metadata": {},
   "outputs": [
    {
     "data": {
      "text/plain": [
       "'(10+20j)'"
      ]
     },
     "execution_count": 9,
     "metadata": {},
     "output_type": "execute_result"
    }
   ],
   "source": [
    "# str(): --- any type is possible in string \n",
    "\n",
    "str(10)     # int to string\n",
    "str(10.50)  # float to string\n",
    "str(True)   # bool to string\n",
    "str(10+20j) # complex to string"
   ]
  },
  {
   "cell_type": "markdown",
   "metadata": {},
   "source": [
    "* Fundamental Datatypes are which we covered so far & also we saw how to work on the type casting from one data type to other - \n",
    " \n",
    " int()\n",
    " float()\n",
    " complex()\n",
    " bool()\n",
    " str()"
   ]
  },
  {
   "cell_type": "markdown",
   "metadata": {},
   "source": [
    "-------------"
   ]
  },
  {
   "cell_type": "markdown",
   "metadata": {},
   "source": [
    "#### Fundamental datatypes vs Immutability -- \n",
    "\n",
    "* All fundamental datatypes are immutable. what is immutable - once we crate the object we are not allow to perform any \n",
    "  changes in that object . we can say that (non-changeable behaviour)\n",
    "* why immutability concept is required -- if you look at below exampl - how many object we created only 1 object which is 10\n",
    "  but how many reference we assinged -- 3 reference indicates to 1 object\n",
    "* bigest advantage of this approch is memory utilization & performance is also improved (pvm do not want to wsat memory)\n",
    "* you can create object with different name, but you cannot create object with same name\n"
   ]
  },
  {
   "cell_type": "code",
   "execution_count": 10,
   "metadata": {},
   "outputs": [
    {
     "name": "stdout",
     "output_type": "stream",
     "text": [
      "140709003502256\n",
      "140709003502256\n",
      "140709003502256\n"
     ]
    }
   ],
   "source": [
    "x2 = 10\n",
    "y2 = 10\n",
    "z2 = 10 \n",
    "print(id(x2))\n",
    "print(id(y2))\n",
    "print(id(z2))"
   ]
  },
  {
   "cell_type": "code",
   "execution_count": 11,
   "metadata": {},
   "outputs": [
    {
     "name": "stdout",
     "output_type": "stream",
     "text": [
      "True\n",
      "True\n",
      "True\n"
     ]
    }
   ],
   "source": [
    "print(x2 is z2)\n",
    "print(x2 is y2)\n",
    "print(y2 is z2)"
   ]
  },
  {
   "cell_type": "markdown",
   "metadata": {},
   "source": [
    "* Mutable -- Changeable-- once you create an object \n",
    "* Immutable -- Non-changeable\n",
    "* Fundamental data types are IMMUTABLE but (LIST is mutable)\n",
    "* Everything in python is an object\n",
    "\n",
    "**This concept reusing same object such type of concept is define following ranges -\n",
    "1> int ----> 0 to 256\n",
    "2> bool ---> Always \n",
    "3> str ----> Always\n",
    "4> float & complex ----> Can not performe the reusable concept"
   ]
  },
  {
   "cell_type": "code",
   "execution_count": 12,
   "metadata": {},
   "outputs": [
    {
     "name": "stdout",
     "output_type": "stream",
     "text": [
      "140709003502256\n",
      "140709003502256\n"
     ]
    }
   ],
   "source": [
    "x = 10 \n",
    "y = 10\n",
    "print(id(x))\n",
    "print(id(y))"
   ]
  },
  {
   "cell_type": "code",
   "execution_count": 13,
   "metadata": {},
   "outputs": [
    {
     "data": {
      "text/plain": [
       "140709003502256"
      ]
     },
     "execution_count": 13,
     "metadata": {},
     "output_type": "execute_result"
    }
   ],
   "source": [
    "id(y)"
   ]
  },
  {
   "cell_type": "code",
   "execution_count": 14,
   "metadata": {},
   "outputs": [
    {
     "data": {
      "text/plain": [
       "True"
      ]
     },
     "execution_count": 14,
     "metadata": {},
     "output_type": "execute_result"
    }
   ],
   "source": [
    "# is operator\n",
    "x = 20 # x,y = 20\n",
    "y = 20\n",
    "#x is y\n",
    "y is x"
   ]
  },
  {
   "cell_type": "code",
   "execution_count": 15,
   "metadata": {},
   "outputs": [
    {
     "data": {
      "text/plain": [
       "True"
      ]
     },
     "execution_count": 15,
     "metadata": {},
     "output_type": "execute_result"
    }
   ],
   "source": [
    "x = True\n",
    "y = True\n",
    "z = True\n",
    "x is y\n",
    "y is z\n",
    "z is x\n",
    "z is y"
   ]
  },
  {
   "cell_type": "code",
   "execution_count": 16,
   "metadata": {},
   "outputs": [
    {
     "data": {
      "text/plain": [
       "False"
      ]
     },
     "execution_count": 16,
     "metadata": {},
     "output_type": "execute_result"
    }
   ],
   "source": [
    "x = 10.0   # Reusable concept is not there in float data type \n",
    "y = 10.0\n",
    "x is y"
   ]
  },
  {
   "cell_type": "code",
   "execution_count": 17,
   "metadata": {},
   "outputs": [
    {
     "data": {
      "text/plain": [
       "False"
      ]
     },
     "execution_count": 17,
     "metadata": {},
     "output_type": "execute_result"
    }
   ],
   "source": [
    "x = 10 +20j # complex and floating number this concept is not applicable\n",
    "y = 10 +20j\n",
    "x is y"
   ]
  },
  {
   "cell_type": "markdown",
   "metadata": {},
   "source": [
    "## ------ END OF THE TODAYS SESSION ----- ##\n"
   ]
  },
  {
   "cell_type": "markdown",
   "metadata": {},
   "source": [
    "-------"
   ]
  },
  {
   "cell_type": "markdown",
   "metadata": {},
   "source": [
    "### PYTHON DATA STRUCTURE ( TASK - 2)"
   ]
  },
  {
   "cell_type": "markdown",
   "metadata": {},
   "source": [
    "* LIST DATASTRUCTURE - \n",
    "\n",
    "* Insertation order is preserved & duplicates are allowed\n",
    "* if you want to represent group of values as a singel entity where insertation   order is preserved and duplicates are allowed   then we can go for LIST datatype\n",
    "* what is the meaning of insertaion order is preserved\n",
    "* you can increase the least object or you can decrease the list object \n",
    "* list you can use index operator and also slice operator "
   ]
  },
  {
   "cell_type": "code",
   "execution_count": 110,
   "metadata": {},
   "outputs": [
    {
     "name": "stdout",
     "output_type": "stream",
     "text": [
      "<class 'list'>\n"
     ]
    }
   ],
   "source": [
    "l = [] \n",
    "type(l) \n",
    "print(type(l))"
   ]
  },
  {
   "cell_type": "code",
   "execution_count": 111,
   "metadata": {},
   "outputs": [
    {
     "data": {
      "text/plain": [
       "[]"
      ]
     },
     "execution_count": 111,
     "metadata": {},
     "output_type": "execute_result"
    }
   ],
   "source": [
    "l"
   ]
  },
  {
   "cell_type": "code",
   "execution_count": 112,
   "metadata": {},
   "outputs": [],
   "source": [
    "#Now i want to add an object\n",
    "\n",
    "l.append(10)\n",
    "l.append(20)\n",
    "l.append(30)\n",
    "l.append(10)\n"
   ]
  },
  {
   "cell_type": "code",
   "execution_count": 113,
   "metadata": {},
   "outputs": [
    {
     "data": {
      "text/plain": [
       "[10, 20, 30, 10]"
      ]
     },
     "execution_count": 113,
     "metadata": {},
     "output_type": "execute_result"
    }
   ],
   "source": [
    "l"
   ]
  },
  {
   "cell_type": "code",
   "execution_count": 114,
   "metadata": {},
   "outputs": [
    {
     "name": "stdout",
     "output_type": "stream",
     "text": [
      "[10, 20, 30, 10]\n"
     ]
    }
   ],
   "source": [
    "print(l)"
   ]
  },
  {
   "cell_type": "code",
   "execution_count": 23,
   "metadata": {},
   "outputs": [
    {
     "name": "stdout",
     "output_type": "stream",
     "text": [
      "[10, 20, 30, 10]\n"
     ]
    }
   ],
   "source": [
    "print(l) # if you check the output insertation order is preserved & duplication are allowed"
   ]
  },
  {
   "cell_type": "code",
   "execution_count": 115,
   "metadata": {},
   "outputs": [
    {
     "name": "stdout",
     "output_type": "stream",
     "text": [
      "[10, 20, 30, 10, 'amxwam', '8.0', None]\n"
     ]
    }
   ],
   "source": [
    "#hetrogenrous objects are allowed or not\n",
    "#java people came and asking null is availabe or not, such type of stories are not available\n",
    "# list objects are growable & this is just an introduction session & we will see indetails\n",
    "\n",
    "l.append('amxwam')\n",
    "l.append('8.0')\n",
    "l.append(None)\n",
    "print(l)"
   ]
  },
  {
   "cell_type": "code",
   "execution_count": 116,
   "metadata": {},
   "outputs": [],
   "source": [
    "l.remove('amxwam') #delete the object from list"
   ]
  },
  {
   "cell_type": "code",
   "execution_count": 117,
   "metadata": {},
   "outputs": [
    {
     "data": {
      "text/plain": [
       "[10, 20, 30, 10, '8.0', None]"
      ]
     },
     "execution_count": 117,
     "metadata": {},
     "output_type": "execute_result"
    }
   ],
   "source": [
    "l"
   ]
  },
  {
   "cell_type": "code",
   "execution_count": 118,
   "metadata": {},
   "outputs": [
    {
     "data": {
      "text/plain": [
       "10"
      ]
     },
     "execution_count": 118,
     "metadata": {},
     "output_type": "execute_result"
    }
   ],
   "source": [
    "l[0] "
   ]
  },
  {
   "cell_type": "code",
   "execution_count": 123,
   "metadata": {},
   "outputs": [
    {
     "data": {
      "text/plain": [
       "'8.0'"
      ]
     },
     "execution_count": 123,
     "metadata": {},
     "output_type": "execute_result"
    }
   ],
   "source": [
    "l[4] "
   ]
  },
  {
   "cell_type": "code",
   "execution_count": 29,
   "metadata": {},
   "outputs": [
    {
     "data": {
      "text/plain": [
       "20"
      ]
     },
     "execution_count": 29,
     "metadata": {},
     "output_type": "execute_result"
    }
   ],
   "source": [
    "l[1] # : --> (SLICING OPERATOR) "
   ]
  },
  {
   "cell_type": "code",
   "execution_count": 124,
   "metadata": {},
   "outputs": [
    {
     "data": {
      "text/plain": [
       "[10, 20, 30, 10, '8.0', None]"
      ]
     },
     "execution_count": 124,
     "metadata": {},
     "output_type": "execute_result"
    }
   ],
   "source": [
    "l"
   ]
  },
  {
   "cell_type": "code",
   "execution_count": 125,
   "metadata": {},
   "outputs": [
    {
     "data": {
      "text/plain": [
       "[10, 20, 30, 10, '8.0', None]"
      ]
     },
     "execution_count": 125,
     "metadata": {},
     "output_type": "execute_result"
    }
   ],
   "source": [
    "l[:] #display all the value from  2nd index onwards"
   ]
  },
  {
   "cell_type": "code",
   "execution_count": 128,
   "metadata": {},
   "outputs": [],
   "source": [
    "l[-1] # output is none hear\n"
   ]
  },
  {
   "cell_type": "code",
   "execution_count": 33,
   "metadata": {},
   "outputs": [
    {
     "data": {
      "text/plain": [
       "'8.0'"
      ]
     },
     "execution_count": 33,
     "metadata": {},
     "output_type": "execute_result"
    }
   ],
   "source": [
    "l[-2]"
   ]
  },
  {
   "cell_type": "code",
   "execution_count": 34,
   "metadata": {},
   "outputs": [
    {
     "data": {
      "text/plain": [
       "[10, 20, 30, 10, '8.0', None]"
      ]
     },
     "execution_count": 34,
     "metadata": {},
     "output_type": "execute_result"
    }
   ],
   "source": [
    "l"
   ]
  },
  {
   "cell_type": "code",
   "execution_count": 35,
   "metadata": {},
   "outputs": [
    {
     "data": {
      "text/plain": [
       "[10, 20, 30, 10, '8.0', None]"
      ]
     },
     "execution_count": 35,
     "metadata": {},
     "output_type": "execute_result"
    }
   ],
   "source": [
    "l[:] # : --> this will give us total values which we passed in the object"
   ]
  },
  {
   "cell_type": "code",
   "execution_count": 36,
   "metadata": {},
   "outputs": [],
   "source": [
    "l.remove(None)"
   ]
  },
  {
   "cell_type": "code",
   "execution_count": 37,
   "metadata": {},
   "outputs": [
    {
     "data": {
      "text/plain": [
       "[10, 20, 30, 10, '8.0']"
      ]
     },
     "execution_count": 37,
     "metadata": {},
     "output_type": "execute_result"
    }
   ],
   "source": [
    "l"
   ]
  },
  {
   "cell_type": "code",
   "execution_count": 38,
   "metadata": {},
   "outputs": [
    {
     "data": {
      "text/plain": [
       "'8.0'"
      ]
     },
     "execution_count": 38,
     "metadata": {},
     "output_type": "execute_result"
    }
   ],
   "source": [
    "l[-1]"
   ]
  },
  {
   "cell_type": "code",
   "execution_count": 129,
   "metadata": {},
   "outputs": [
    {
     "data": {
      "text/plain": [
       "10"
      ]
     },
     "execution_count": 129,
     "metadata": {},
     "output_type": "execute_result"
    }
   ],
   "source": [
    "l[-3]"
   ]
  },
  {
   "cell_type": "markdown",
   "metadata": {},
   "source": [
    "* Finaly Summary of LIST DATATYPES -- \n",
    "1> order is important\n",
    "2> duplicates are allowed\n",
    "3> heterogenous are allowed i.e. different type is allowed\n",
    "4> growable in nature & you can deleat or insert an object in the list\n",
    "5> list is datastructure\n",
    "6> values are enclose in square bracket[]\n",
    "7> List is mutable\n",
    "8> index concept applicated in list datatypes +ve- left to right,// -ve- right to left\n",
    "9> slicin concept is also available"
   ]
  },
  {
   "cell_type": "markdown",
   "metadata": {},
   "source": [
    "**so far we covered fundamental datatypes - int , float, comlex, str, bool\n",
    "** we do covered type casting function , how to convert from one type to other\n",
    "**we covered one datastructured called list "
   ]
  },
  {
   "cell_type": "markdown",
   "metadata": {},
   "source": [
    "#### tuple concept \n",
    "* Tuple is immutable & List is mutable\n",
    "* Tuple can be represent as ()\n",
    "* once we create tuple we cannot modify \n",
    "* order & duplicates are allowed\n",
    "* heterogenous are allowed i.e. different type is allowed\n",
    "* index concept applicated in list datatypes +ve- left to right,// -ve- right \n",
    "* slicin concept is also available"
   ]
  },
  {
   "cell_type": "code",
   "execution_count": 40,
   "metadata": {},
   "outputs": [],
   "source": [
    "l = [10,20,30,40] #list datastructure\n",
    "t = (10,20,30,40) #tuple datastructure"
   ]
  },
  {
   "cell_type": "code",
   "execution_count": 130,
   "metadata": {},
   "outputs": [
    {
     "data": {
      "text/plain": [
       "(10, 'amxwam', True, 5.8, 10)"
      ]
     },
     "execution_count": 130,
     "metadata": {},
     "output_type": "execute_result"
    }
   ],
   "source": [
    "t1 = (10,'amxwam',True, 5.8, 10)\n",
    "t1"
   ]
  },
  {
   "cell_type": "code",
   "execution_count": 135,
   "metadata": {},
   "outputs": [
    {
     "data": {
      "text/plain": [
       "10"
      ]
     },
     "execution_count": 135,
     "metadata": {},
     "output_type": "execute_result"
    }
   ],
   "source": [
    "t1[0] "
   ]
  },
  {
   "cell_type": "code",
   "execution_count": 136,
   "metadata": {},
   "outputs": [
    {
     "data": {
      "text/plain": [
       "(10, 'amxwam', True)"
      ]
     },
     "execution_count": 136,
     "metadata": {},
     "output_type": "execute_result"
    }
   ],
   "source": [
    "t1[0:3]  # [[ IF YOU RIGHT SIDE THE CALCULATION WILL (Nth INDEX-1) (3-1) == UPTO 2ND INDEX ]] "
   ]
  },
  {
   "cell_type": "code",
   "execution_count": 137,
   "metadata": {},
   "outputs": [
    {
     "data": {
      "text/plain": [
       "(10, 'amxwam', True, 5.8)"
      ]
     },
     "execution_count": 137,
     "metadata": {},
     "output_type": "execute_result"
    }
   ],
   "source": [
    "t1[0:4] "
   ]
  },
  {
   "cell_type": "code",
   "execution_count": 138,
   "metadata": {},
   "outputs": [
    {
     "data": {
      "text/plain": [
       "(10, 'amxwam', True, 5.8, 10)"
      ]
     },
     "execution_count": 138,
     "metadata": {},
     "output_type": "execute_result"
    }
   ],
   "source": [
    "t1"
   ]
  },
  {
   "cell_type": "code",
   "execution_count": 139,
   "metadata": {},
   "outputs": [
    {
     "data": {
      "text/plain": [
       "(10, 20, 30, 40)"
      ]
     },
     "execution_count": 139,
     "metadata": {},
     "output_type": "execute_result"
    }
   ],
   "source": [
    "t"
   ]
  },
  {
   "cell_type": "code",
   "execution_count": 47,
   "metadata": {},
   "outputs": [
    {
     "data": {
      "text/plain": [
       "10"
      ]
     },
     "execution_count": 47,
     "metadata": {},
     "output_type": "execute_result"
    }
   ],
   "source": [
    "t[0] # Oth index "
   ]
  },
  {
   "cell_type": "code",
   "execution_count": 140,
   "metadata": {},
   "outputs": [
    {
     "data": {
      "text/plain": [
       "[10, 20, 30, 10, '8.0', None]"
      ]
     },
     "execution_count": 140,
     "metadata": {},
     "output_type": "execute_result"
    }
   ],
   "source": [
    "l #difference between list and tuple"
   ]
  },
  {
   "cell_type": "code",
   "execution_count": 141,
   "metadata": {},
   "outputs": [
    {
     "data": {
      "text/plain": [
       "10"
      ]
     },
     "execution_count": 141,
     "metadata": {},
     "output_type": "execute_result"
    }
   ],
   "source": [
    "l[0] "
   ]
  },
  {
   "cell_type": "code",
   "execution_count": 143,
   "metadata": {},
   "outputs": [],
   "source": [
    "l[0] = 30 #mutable (change)"
   ]
  },
  {
   "cell_type": "code",
   "execution_count": 145,
   "metadata": {},
   "outputs": [
    {
     "data": {
      "text/plain": [
       "[30, 20, 30, 10, '8.0', None]"
      ]
     },
     "execution_count": 145,
     "metadata": {},
     "output_type": "execute_result"
    }
   ],
   "source": [
    "l"
   ]
  },
  {
   "cell_type": "code",
   "execution_count": 151,
   "metadata": {},
   "outputs": [
    {
     "data": {
      "text/plain": [
       "[30, 20]"
      ]
     },
     "execution_count": 151,
     "metadata": {},
     "output_type": "execute_result"
    }
   ],
   "source": [
    "l[:2] "
   ]
  },
  {
   "cell_type": "code",
   "execution_count": 152,
   "metadata": {},
   "outputs": [
    {
     "data": {
      "text/plain": [
       "[30, 20, 30, 10]"
      ]
     },
     "execution_count": 152,
     "metadata": {},
     "output_type": "execute_result"
    }
   ],
   "source": [
    "l[:-2] "
   ]
  },
  {
   "cell_type": "code",
   "execution_count": 153,
   "metadata": {},
   "outputs": [
    {
     "data": {
      "text/plain": [
       "(10, 20, 30, 40)"
      ]
     },
     "execution_count": 153,
     "metadata": {},
     "output_type": "execute_result"
    }
   ],
   "source": [
    "t"
   ]
  },
  {
   "cell_type": "code",
   "execution_count": 154,
   "metadata": {},
   "outputs": [
    {
     "data": {
      "text/plain": [
       "10"
      ]
     },
     "execution_count": 154,
     "metadata": {},
     "output_type": "execute_result"
    }
   ],
   "source": [
    "t[0]"
   ]
  },
  {
   "cell_type": "code",
   "execution_count": 155,
   "metadata": {},
   "outputs": [
    {
     "ename": "TypeError",
     "evalue": "'tuple' object does not support item assignment",
     "output_type": "error",
     "traceback": [
      "\u001b[1;31m---------------------------------------------------------------------------\u001b[0m",
      "\u001b[1;31mTypeError\u001b[0m                                 Traceback (most recent call last)",
      "\u001b[1;32m<ipython-input-155-2e139bf24183>\u001b[0m in \u001b[0;36m<module>\u001b[1;34m\u001b[0m\n\u001b[1;32m----> 1\u001b[1;33m \u001b[0mt\u001b[0m\u001b[1;33m[\u001b[0m\u001b[1;36m0\u001b[0m\u001b[1;33m]\u001b[0m\u001b[1;33m=\u001b[0m \u001b[1;36m20\u001b[0m \u001b[1;31m# cannot change any value once you decleare cuz tuple is immutable\u001b[0m\u001b[1;33m\u001b[0m\u001b[1;33m\u001b[0m\u001b[0m\n\u001b[0m",
      "\u001b[1;31mTypeError\u001b[0m: 'tuple' object does not support item assignment"
     ]
    }
   ],
   "source": [
    "t[0]= 20 # cannot change any value once you decleare cuz tuple is immutable "
   ]
  },
  {
   "cell_type": "code",
   "execution_count": 156,
   "metadata": {},
   "outputs": [
    {
     "data": {
      "text/plain": [
       "(10, 'amxwam', True, 5.8, 10)"
      ]
     },
     "execution_count": 156,
     "metadata": {},
     "output_type": "execute_result"
    }
   ],
   "source": [
    "t1"
   ]
  },
  {
   "cell_type": "code",
   "execution_count": 157,
   "metadata": {},
   "outputs": [
    {
     "data": {
      "text/plain": [
       "(10, 20, 30, 40)"
      ]
     },
     "execution_count": 157,
     "metadata": {},
     "output_type": "execute_result"
    }
   ],
   "source": [
    "t"
   ]
  },
  {
   "cell_type": "code",
   "execution_count": 158,
   "metadata": {},
   "outputs": [],
   "source": [
    "t2 = t*3 #in this case content has not changed but same t content repeted twice"
   ]
  },
  {
   "cell_type": "code",
   "execution_count": 159,
   "metadata": {},
   "outputs": [
    {
     "data": {
      "text/plain": [
       "(10, 20, 30, 40, 10, 20, 30, 40, 10, 20, 30, 40)"
      ]
     },
     "execution_count": 159,
     "metadata": {},
     "output_type": "execute_result"
    }
   ],
   "source": [
    "t2"
   ]
  },
  {
   "cell_type": "code",
   "execution_count": 160,
   "metadata": {},
   "outputs": [],
   "source": [
    "t3 = (10,20,[2,6])  #is this valid one & u can declare list inside the tuple"
   ]
  },
  {
   "cell_type": "code",
   "execution_count": 161,
   "metadata": {},
   "outputs": [
    {
     "data": {
      "text/plain": [
       "(10, 20, [2, 6])"
      ]
     },
     "execution_count": 161,
     "metadata": {},
     "output_type": "execute_result"
    }
   ],
   "source": [
    "t3"
   ]
  },
  {
   "cell_type": "markdown",
   "metadata": {},
   "source": [
    "* in python which is the most common data types - range()\n",
    "* range() datatypes represent a sequence of values\n",
    "* always immutable\n",
    "* range() datatypes we have multiple forms lets see one by one\n",
    "* List insertation order is preserved but set insertation is not preserved"
   ]
  },
  {
   "cell_type": "code",
   "execution_count": 162,
   "metadata": {},
   "outputs": [
    {
     "name": "stdout",
     "output_type": "stream",
     "text": [
      "<class 'range'>\n"
     ]
    },
    {
     "data": {
      "text/plain": [
       "range(0, 10)"
      ]
     },
     "execution_count": 162,
     "metadata": {},
     "output_type": "execute_result"
    }
   ],
   "source": [
    "# FORM-1: range(10) -- represents values from 0 to 9 (python index start from 0)\n",
    "\n",
    "r = range(10)\n",
    "print(type(r))\n",
    "r"
   ]
  },
  {
   "cell_type": "code",
   "execution_count": 163,
   "metadata": {},
   "outputs": [
    {
     "ename": "TypeError",
     "evalue": "'float' object cannot be interpreted as an integer",
     "output_type": "error",
     "traceback": [
      "\u001b[1;31m---------------------------------------------------------------------------\u001b[0m",
      "\u001b[1;31mTypeError\u001b[0m                                 Traceback (most recent call last)",
      "\u001b[1;32m<ipython-input-163-0dd4041b456f>\u001b[0m in \u001b[0;36m<module>\u001b[1;34m\u001b[0m\n\u001b[1;32m----> 1\u001b[1;33m \u001b[0mrange\u001b[0m\u001b[1;33m(\u001b[0m\u001b[1;36m10.0\u001b[0m\u001b[1;33m,\u001b[0m \u001b[1;36m10.5\u001b[0m\u001b[1;33m)\u001b[0m \u001b[1;31m# you cannot declare float argument\u001b[0m\u001b[1;33m\u001b[0m\u001b[1;33m\u001b[0m\u001b[0m\n\u001b[0m",
      "\u001b[1;31mTypeError\u001b[0m: 'float' object cannot be interpreted as an integer"
     ]
    }
   ],
   "source": [
    "range(10.0, 10.5) # you cannot declare float argument"
   ]
  },
  {
   "cell_type": "code",
   "execution_count": 164,
   "metadata": {},
   "outputs": [
    {
     "data": {
      "text/plain": [
       "range(0, 10)"
      ]
     },
     "execution_count": 164,
     "metadata": {},
     "output_type": "execute_result"
    }
   ],
   "source": [
    "r"
   ]
  },
  {
   "cell_type": "code",
   "execution_count": 165,
   "metadata": {},
   "outputs": [
    {
     "name": "stdout",
     "output_type": "stream",
     "text": [
      "0\n",
      "1\n",
      "2\n",
      "3\n",
      "4\n",
      "5\n",
      "6\n",
      "7\n",
      "8\n",
      "9\n"
     ]
    }
   ],
   "source": [
    "# if i need value for 10 values \n",
    "\n",
    "for i in r: print(i) "
   ]
  },
  {
   "cell_type": "code",
   "execution_count": 166,
   "metadata": {},
   "outputs": [
    {
     "data": {
      "text/plain": [
       "0"
      ]
     },
     "execution_count": 166,
     "metadata": {},
     "output_type": "execute_result"
    }
   ],
   "source": [
    "r[0] "
   ]
  },
  {
   "cell_type": "code",
   "execution_count": 167,
   "metadata": {},
   "outputs": [
    {
     "data": {
      "text/plain": [
       "4"
      ]
     },
     "execution_count": 167,
     "metadata": {},
     "output_type": "execute_result"
    }
   ],
   "source": [
    "r[4]"
   ]
  },
  {
   "cell_type": "code",
   "execution_count": 168,
   "metadata": {},
   "outputs": [
    {
     "data": {
      "text/plain": [
       "range(0, 3)"
      ]
     },
     "execution_count": 168,
     "metadata": {},
     "output_type": "execute_result"
    }
   ],
   "source": [
    "r[0:3] "
   ]
  },
  {
   "cell_type": "code",
   "execution_count": null,
   "metadata": {},
   "outputs": [],
   "source": [
    "\n",
    "\n",
    "# FORM-1 concept we passed only one argument"
   ]
  },
  {
   "cell_type": "markdown",
   "metadata": {},
   "source": [
    "**FORM:2 (if we passed 2 arguments)"
   ]
  },
  {
   "cell_type": "code",
   "execution_count": 64,
   "metadata": {},
   "outputs": [
    {
     "data": {
      "text/plain": [
       "range(0, 100)"
      ]
     },
     "execution_count": 64,
     "metadata": {},
     "output_type": "execute_result"
    }
   ],
   "source": [
    "# i want to generate a sequence of no fro 0 to 99\n",
    "\n",
    "range(100)"
   ]
  },
  {
   "cell_type": "code",
   "execution_count": 65,
   "metadata": {},
   "outputs": [
    {
     "data": {
      "text/plain": [
       "range(10, 30)"
      ]
     },
     "execution_count": 65,
     "metadata": {},
     "output_type": "execute_result"
    }
   ],
   "source": [
    "# i want to represent number from 10 to 29 then we should not use above one\n",
    "\n",
    "range(10,30) # repreent no. from 10 to 29 but not 100 & we passed 2 arguments\n"
   ]
  },
  {
   "cell_type": "markdown",
   "metadata": {},
   "source": [
    "**Form:3 (if we passed 3 arguments)"
   ]
  },
  {
   "cell_type": "code",
   "execution_count": 169,
   "metadata": {},
   "outputs": [
    {
     "data": {
      "text/plain": [
       "range(0, 50)"
      ]
     },
     "execution_count": 169,
     "metadata": {},
     "output_type": "execute_result"
    }
   ],
   "source": [
    "range(50) "
   ]
  },
  {
   "cell_type": "code",
   "execution_count": 170,
   "metadata": {},
   "outputs": [
    {
     "data": {
      "text/plain": [
       "range(10, 50)"
      ]
     },
     "execution_count": 170,
     "metadata": {},
     "output_type": "execute_result"
    }
   ],
   "source": [
    "range(10,50) # 5 state from 10 to 50 print the output with 5 steps"
   ]
  },
  {
   "cell_type": "code",
   "execution_count": 171,
   "metadata": {},
   "outputs": [
    {
     "data": {
      "text/plain": [
       "range(10, 50, 5)"
      ]
     },
     "execution_count": 171,
     "metadata": {},
     "output_type": "execute_result"
    }
   ],
   "source": [
    "range(10,50,5) # 5 state from 10 to 50 print the output with 5 steps"
   ]
  },
  {
   "cell_type": "code",
   "execution_count": 174,
   "metadata": {},
   "outputs": [
    {
     "name": "stdout",
     "output_type": "stream",
     "text": [
      "10\n",
      "30\n"
     ]
    }
   ],
   "source": [
    "for i in range(10,50,20):\n",
    "    print(i) \n",
    "     "
   ]
  },
  {
   "cell_type": "code",
   "execution_count": 175,
   "metadata": {},
   "outputs": [
    {
     "ename": "TypeError",
     "evalue": "range expected at most 3 arguments, got 4",
     "output_type": "error",
     "traceback": [
      "\u001b[1;31m---------------------------------------------------------------------------\u001b[0m",
      "\u001b[1;31mTypeError\u001b[0m                                 Traceback (most recent call last)",
      "\u001b[1;32m<ipython-input-175-9b3253d73408>\u001b[0m in \u001b[0;36m<module>\u001b[1;34m\u001b[0m\n\u001b[1;32m----> 1\u001b[1;33m \u001b[0mrange\u001b[0m\u001b[1;33m(\u001b[0m\u001b[1;36m10\u001b[0m\u001b[1;33m,\u001b[0m\u001b[1;36m20\u001b[0m\u001b[1;33m,\u001b[0m\u001b[1;36m5\u001b[0m\u001b[1;33m,\u001b[0m\u001b[1;36m6\u001b[0m\u001b[1;33m)\u001b[0m \u001b[1;31m#you cannot declare 4 aruguments once becusae max you can assign for 3 arguments or 3 parameter\u001b[0m\u001b[1;33m\u001b[0m\u001b[1;33m\u001b[0m\u001b[0m\n\u001b[0m",
      "\u001b[1;31mTypeError\u001b[0m: range expected at most 3 arguments, got 4"
     ]
    }
   ],
   "source": [
    "range(10,20,5,6) #you cannot declare 4 aruguments once becusae max you can assign for 3 arguments or 3 parameter"
   ]
  },
  {
   "cell_type": "markdown",
   "metadata": {},
   "source": [
    "**set datatype**\n",
    "\n",
    "Difference between list & set --\n",
    "* My requirment of the programme is -- Represent group of object as single entity where duplicates are allowed and order is important then we go for LIST\n",
    "* I dont want dupliacated, & order also not important then we will go for SET\n",
    "* LIST are represent as [] && SET are represent as {}\n",
    "* SET object does not support indexing or slicing\n",
    "* insertation order are not preserved,order & duplicates are not allowed\n",
    "* index concept are not allowed , hetrogeneuous object are allowed\n",
    "* set is mutable\n",
    "* add & remove method is use for SET but append method is used only for LIST"
   ]
  },
  {
   "cell_type": "code",
   "execution_count": 176,
   "metadata": {},
   "outputs": [],
   "source": [
    "s = {10,20,30,10,20,30,} # is it allowed or not we will check"
   ]
  },
  {
   "cell_type": "code",
   "execution_count": 177,
   "metadata": {},
   "outputs": [
    {
     "data": {
      "text/plain": [
       "{10, 20, 30}"
      ]
     },
     "execution_count": 177,
     "metadata": {},
     "output_type": "execute_result"
    }
   ],
   "source": [
    "s #duplicates are not allowed"
   ]
  },
  {
   "cell_type": "code",
   "execution_count": 178,
   "metadata": {},
   "outputs": [],
   "source": [
    "s1 = {30,10,20,10,'NARESH'} "
   ]
  },
  {
   "cell_type": "code",
   "execution_count": 179,
   "metadata": {},
   "outputs": [
    {
     "data": {
      "text/plain": [
       "{10, 20, 30, 'NARESH'}"
      ]
     },
     "execution_count": 179,
     "metadata": {},
     "output_type": "execute_result"
    }
   ],
   "source": [
    "s1 "
   ]
  },
  {
   "cell_type": "code",
   "execution_count": 180,
   "metadata": {},
   "outputs": [
    {
     "data": {
      "text/plain": [
       "{10, 20, 30}"
      ]
     },
     "execution_count": 180,
     "metadata": {},
     "output_type": "execute_result"
    }
   ],
   "source": [
    "s"
   ]
  },
  {
   "cell_type": "code",
   "execution_count": 183,
   "metadata": {},
   "outputs": [
    {
     "ename": "TypeError",
     "evalue": "'set' object is not subscriptable",
     "output_type": "error",
     "traceback": [
      "\u001b[1;31m---------------------------------------------------------------------------\u001b[0m",
      "\u001b[1;31mTypeError\u001b[0m                                 Traceback (most recent call last)",
      "\u001b[1;32m<ipython-input-183-7176f5754e2f>\u001b[0m in \u001b[0;36m<module>\u001b[1;34m\u001b[0m\n\u001b[1;32m----> 1\u001b[1;33m \u001b[0ms\u001b[0m\u001b[1;33m[\u001b[0m\u001b[1;33m:\u001b[0m\u001b[1;33m]\u001b[0m  \u001b[1;31m#set object does not support indexing or slicing or subscirptive\u001b[0m\u001b[1;33m\u001b[0m\u001b[1;33m\u001b[0m\u001b[0m\n\u001b[0m",
      "\u001b[1;31mTypeError\u001b[0m: 'set' object is not subscriptable"
     ]
    }
   ],
   "source": [
    "s[:]  #set object does not support indexing or slicing or subscirptive"
   ]
  },
  {
   "cell_type": "code",
   "execution_count": 184,
   "metadata": {},
   "outputs": [
    {
     "ename": "TypeError",
     "evalue": "'set' object is not subscriptable",
     "output_type": "error",
     "traceback": [
      "\u001b[1;31m---------------------------------------------------------------------------\u001b[0m",
      "\u001b[1;31mTypeError\u001b[0m                                 Traceback (most recent call last)",
      "\u001b[1;32m<ipython-input-184-0bfa66a3b557>\u001b[0m in \u001b[0;36m<module>\u001b[1;34m\u001b[0m\n\u001b[1;32m----> 1\u001b[1;33m \u001b[0ms\u001b[0m\u001b[1;33m[\u001b[0m\u001b[1;36m1\u001b[0m\u001b[1;33m:\u001b[0m\u001b[1;33m]\u001b[0m\u001b[1;33m\u001b[0m\u001b[1;33m\u001b[0m\u001b[0m\n\u001b[0m",
      "\u001b[1;31mTypeError\u001b[0m: 'set' object is not subscriptable"
     ]
    }
   ],
   "source": [
    "s[1:] "
   ]
  },
  {
   "cell_type": "code",
   "execution_count": 185,
   "metadata": {},
   "outputs": [
    {
     "data": {
      "text/plain": [
       "{10, 20, 30}"
      ]
     },
     "execution_count": 185,
     "metadata": {},
     "output_type": "execute_result"
    }
   ],
   "source": [
    "s"
   ]
  },
  {
   "cell_type": "code",
   "execution_count": 186,
   "metadata": {},
   "outputs": [
    {
     "data": {
      "text/plain": [
       "{10, 20, 30, 'naresh'}"
      ]
     },
     "execution_count": 186,
     "metadata": {},
     "output_type": "execute_result"
    }
   ],
   "source": [
    "s.add('naresh') #mutable\n",
    "s"
   ]
  },
  {
   "cell_type": "code",
   "execution_count": 189,
   "metadata": {},
   "outputs": [
    {
     "data": {
      "text/plain": [
       "{10, 20, 30, 'b', 'naresh'}"
      ]
     },
     "execution_count": 189,
     "metadata": {},
     "output_type": "execute_result"
    }
   ],
   "source": [
    "s.add('b') \n",
    "s"
   ]
  },
  {
   "cell_type": "code",
   "execution_count": 192,
   "metadata": {},
   "outputs": [],
   "source": [
    "s.remove('naresh') #append function is applicable for list not for the set"
   ]
  },
  {
   "cell_type": "code",
   "execution_count": 193,
   "metadata": {},
   "outputs": [
    {
     "data": {
      "text/plain": [
       "{10, 20, 'b'}"
      ]
     },
     "execution_count": 193,
     "metadata": {},
     "output_type": "execute_result"
    }
   ],
   "source": [
    "s"
   ]
  },
  {
   "cell_type": "code",
   "execution_count": 194,
   "metadata": {},
   "outputs": [
    {
     "data": {
      "text/plain": [
       "{10, 20, 30, 'NARESH'}"
      ]
     },
     "execution_count": 194,
     "metadata": {},
     "output_type": "execute_result"
    }
   ],
   "source": [
    "s1"
   ]
  },
  {
   "cell_type": "code",
   "execution_count": null,
   "metadata": {},
   "outputs": [],
   "source": [
    "# frozenset exactly same as set but one criteria is immutable"
   ]
  },
  {
   "cell_type": "code",
   "execution_count": 195,
   "metadata": {},
   "outputs": [
    {
     "data": {
      "text/plain": [
       "{10, 20, 30, 40}"
      ]
     },
     "execution_count": 195,
     "metadata": {},
     "output_type": "execute_result"
    }
   ],
   "source": [
    "s2 = {10,20,30,40}\n",
    "s2"
   ]
  },
  {
   "cell_type": "code",
   "execution_count": 196,
   "metadata": {},
   "outputs": [
    {
     "data": {
      "text/plain": [
       "frozenset({10, 20, 30, 40})"
      ]
     },
     "execution_count": 196,
     "metadata": {},
     "output_type": "execute_result"
    }
   ],
   "source": [
    "fs = frozenset(s2)\n",
    "fs"
   ]
  },
  {
   "cell_type": "code",
   "execution_count": 197,
   "metadata": {},
   "outputs": [
    {
     "data": {
      "text/plain": [
       "frozenset"
      ]
     },
     "execution_count": 197,
     "metadata": {},
     "output_type": "execute_result"
    }
   ],
   "source": [
    "type(fs)"
   ]
  },
  {
   "cell_type": "code",
   "execution_count": 200,
   "metadata": {},
   "outputs": [
    {
     "ename": "AttributeError",
     "evalue": "'frozenset' object has no attribute 'add'",
     "output_type": "error",
     "traceback": [
      "\u001b[1;31m---------------------------------------------------------------------------\u001b[0m",
      "\u001b[1;31mAttributeError\u001b[0m                            Traceback (most recent call last)",
      "\u001b[1;32m<ipython-input-200-e158d23c3808>\u001b[0m in \u001b[0;36m<module>\u001b[1;34m\u001b[0m\n\u001b[1;32m----> 1\u001b[1;33m \u001b[0mfs\u001b[0m\u001b[1;33m.\u001b[0m\u001b[0madd\u001b[0m\u001b[1;33m(\u001b[0m\u001b[1;36m50\u001b[0m\u001b[1;33m)\u001b[0m \u001b[1;31m#add, remove such type of concept are not applicable in frozenset\u001b[0m\u001b[1;33m\u001b[0m\u001b[1;33m\u001b[0m\u001b[0m\n\u001b[0m\u001b[0;32m      2\u001b[0m \u001b[0mfs\u001b[0m\u001b[1;33m.\u001b[0m\u001b[0mremove\u001b[0m\u001b[1;33m(\u001b[0m\u001b[1;36m10\u001b[0m\u001b[1;33m)\u001b[0m\u001b[1;33m\u001b[0m\u001b[1;33m\u001b[0m\u001b[0m\n",
      "\u001b[1;31mAttributeError\u001b[0m: 'frozenset' object has no attribute 'add'"
     ]
    }
   ],
   "source": [
    "fs.add(50) #add, remove such type of concept are not applicable in frozenset\n",
    "fs.remove(10)"
   ]
  },
  {
   "cell_type": "markdown",
   "metadata": {},
   "source": [
    "**DICTIONARY DATATYPES (dict)\n",
    "\n",
    "* oxford dictionary -- in oxford dictionary words along with meaning is there\n",
    "* i can say that key:values\n",
    "* in the case of list,tuple,set,range,set,frozenset we represent individually & all objects are individually object right guys.\n",
    "* i want to represent as group of object as pair example -- (rollno:name, fruits:price, mobileno:name)\n",
    "* dict is very important, very special category compare to all category\n",
    "* duplicate keys are not allowed but values can be duplicate\n",
    "* dict are represent as {}// : you can assined with given operator\n",
    "* keys & values both can be hetrogeneous\n",
    "* No such type of rule that all keys are integer types & values are string type\n",
    "* keys & values can any type of object"
   ]
  },
  {
   "cell_type": "code",
   "execution_count": 201,
   "metadata": {},
   "outputs": [
    {
     "data": {
      "text/plain": [
       "{100: 'amxwam', 200: 'shiv', 300: 'nar'}"
      ]
     },
     "execution_count": 201,
     "metadata": {},
     "output_type": "execute_result"
    }
   ],
   "source": [
    "d = {100:'amxwam', 200:'shiv', 300:'nar'}\n",
    "d"
   ]
  },
  {
   "cell_type": "code",
   "execution_count": 202,
   "metadata": {},
   "outputs": [
    {
     "data": {
      "text/plain": [
       "dict"
      ]
     },
     "execution_count": 202,
     "metadata": {},
     "output_type": "execute_result"
    }
   ],
   "source": [
    "type(d)"
   ]
  },
  {
   "cell_type": "code",
   "execution_count": 203,
   "metadata": {},
   "outputs": [
    {
     "data": {
      "text/plain": [
       "{}"
      ]
     },
     "execution_count": 203,
     "metadata": {},
     "output_type": "execute_result"
    }
   ],
   "source": [
    "# i want to create an empty dictionary, now tell me is that set or dict ???\n",
    "\n",
    "d1 = {}  # always treated as dict\n",
    "d1\n"
   ]
  },
  {
   "cell_type": "code",
   "execution_count": 204,
   "metadata": {},
   "outputs": [
    {
     "name": "stdout",
     "output_type": "stream",
     "text": [
      "<class 'dict'>\n"
     ]
    }
   ],
   "source": [
    "print(type(d1)) "
   ]
  },
  {
   "cell_type": "code",
   "execution_count": 205,
   "metadata": {},
   "outputs": [
    {
     "data": {
      "text/plain": [
       "set()"
      ]
     },
     "execution_count": 205,
     "metadata": {},
     "output_type": "execute_result"
    }
   ],
   "source": [
    "# you may ask questiong how to create empty set \n",
    "\n",
    "s = set() \n",
    "s"
   ]
  },
  {
   "cell_type": "code",
   "execution_count": 206,
   "metadata": {},
   "outputs": [
    {
     "name": "stdout",
     "output_type": "stream",
     "text": [
      "<class 'set'>\n"
     ]
    }
   ],
   "source": [
    "print(type(s))"
   ]
  },
  {
   "cell_type": "code",
   "execution_count": 207,
   "metadata": {},
   "outputs": [],
   "source": [
    "# i created empty dict\n",
    "\n",
    "d2 = {} # i want to add some element, so dict is mutable"
   ]
  },
  {
   "cell_type": "code",
   "execution_count": 208,
   "metadata": {},
   "outputs": [],
   "source": [
    "d2[100] = 'NARESH' # this is the metod to add an object in dictinary & no add,remove function are applicable in dict\n"
   ]
  },
  {
   "cell_type": "code",
   "execution_count": 209,
   "metadata": {},
   "outputs": [],
   "source": [
    "d2[200] = 'shiv'"
   ]
  },
  {
   "cell_type": "code",
   "execution_count": 210,
   "metadata": {},
   "outputs": [
    {
     "data": {
      "text/plain": [
       "{100: 'NARESH', 200: 'shiv'}"
      ]
     },
     "execution_count": 210,
     "metadata": {},
     "output_type": "execute_result"
    }
   ],
   "source": [
    "d2"
   ]
  },
  {
   "cell_type": "code",
   "execution_count": 211,
   "metadata": {},
   "outputs": [],
   "source": [
    "d2[100] = 'xxx'"
   ]
  },
  {
   "cell_type": "code",
   "execution_count": 212,
   "metadata": {},
   "outputs": [
    {
     "data": {
      "text/plain": [
       "{100: 'xxx', 200: 'shiv'}"
      ]
     },
     "execution_count": 212,
     "metadata": {},
     "output_type": "execute_result"
    }
   ],
   "source": [
    "d2 # duplicates are not allowed but values are changes"
   ]
  },
  {
   "cell_type": "code",
   "execution_count": 213,
   "metadata": {},
   "outputs": [],
   "source": [
    "del d2[100] # how to remove key & values in dict"
   ]
  },
  {
   "cell_type": "code",
   "execution_count": 214,
   "metadata": {},
   "outputs": [
    {
     "data": {
      "text/plain": [
       "{200: 'shiv'}"
      ]
     },
     "execution_count": 214,
     "metadata": {},
     "output_type": "execute_result"
    }
   ],
   "source": [
    "d2 "
   ]
  },
  {
   "cell_type": "markdown",
   "metadata": {},
   "source": [
    "------"
   ]
  },
  {
   "cell_type": "markdown",
   "metadata": {},
   "source": [
    "## Datatypes are completed ##"
   ]
  },
  {
   "cell_type": "code",
   "execution_count": null,
   "metadata": {},
   "outputs": [],
   "source": []
  }
 ],
 "metadata": {
  "kernelspec": {
   "display_name": "Python 3",
   "language": "python",
   "name": "python3"
  },
  "language_info": {
   "codemirror_mode": {
    "name": "ipython",
    "version": 3
   },
   "file_extension": ".py",
   "mimetype": "text/x-python",
   "name": "python",
   "nbconvert_exporter": "python",
   "pygments_lexer": "ipython3",
   "version": "3.7.6"
  }
 },
 "nbformat": 4,
 "nbformat_minor": 2
}
